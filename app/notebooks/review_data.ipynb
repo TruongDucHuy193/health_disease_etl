{
 "cells": [
  {
   "cell_type": "code",
   "execution_count": null,
   "id": "b8f96dfa",
   "metadata": {},
   "outputs": [],
   "source": [
    "import pandas as pd\n",
    "df = pd.read_csv('../data/raw/to_csv/raw_heart_disease.csv')\n",
    "#new"
   ]
  },
  {
   "cell_type": "code",
   "execution_count": 5,
   "id": "e1be8547",
   "metadata": {},
   "outputs": [
    {
     "name": "stdout",
     "output_type": "stream",
     "text": [
      "📊 PHẦN TRĂM GIÁ TRỊ -NULL CHO TỪNG CỘT\n",
      "==================================================\n",
      "Cột          | Số lượng NULL | Tổng số    | Phần trăm %\n",
      "--------------------------------------------------\n",
      "age          | 0            | 308        | 0.00      \n",
      "sex          | 0            | 308        | 0.00      \n",
      "num          | 0            | 308        | 0.00      \n",
      "cp           | 0            | 308        | 0.00      \n",
      "ca           | 8            | 308        | 2.60      \n",
      "thal         | 7            | 308        | 2.27      \n",
      "oldpeak      | 0            | 308        | 0.00      \n",
      "exang        | 0            | 308        | 0.00      \n",
      "trestbps     | 0            | 308        | 0.00      \n",
      "chol         | 3            | 308        | 0.97      \n",
      "thalach      | 0            | 308        | 0.00      \n",
      "slope        | 1            | 308        | 0.32      \n",
      "restecg      | 0            | 308        | 0.00      \n",
      "htn          | 3            | 308        | 0.97      \n",
      "dm           | 0            | 308        | 0.00      \n",
      "famhist      | 5            | 308        | 1.62      \n",
      "fbs          | 3            | 308        | 0.97      \n",
      "prop         | 2            | 308        | 0.65      \n",
      "nitr         | 2            | 308        | 0.65      \n",
      "pro          | 2            | 308        | 0.65      \n",
      "diuretic     | 3            | 308        | 0.97      \n",
      "xhypo        | 0            | 308        | 0.00      \n",
      "smoke        | 308          | 308        | 100.00    \n"
     ]
    }
   ],
   "source": [
    "columns_to_check = ['age', 'sex', 'num', 'cp','ca', 'thal', 'oldpeak', 'exang', \n",
    "                   'trestbps', 'chol', 'thalach', 'slope', 'restecg', 'htn', \n",
    "                   'dm', 'famhist', 'fbs', 'prop', 'nitr', 'pro', \n",
    "                   'diuretic', 'xhypo','smoke']\n",
    "print(\"📊 PHẦN TRĂM GIÁ TRỊ -NULL CHO TỪNG CỘT\")\n",
    "print(\"=\" * 50)\n",
    "print(f\"{'Cột':<12} | {'Số lượng NULL':<12} | {'Tổng số':<10} | {'Phần trăm %':<10}\")\n",
    "print(\"-\" * 50)\n",
    "\n",
    "missing_cols = []\n",
    "for col in columns_to_check:\n",
    "    if col in df.columns:\n",
    "        count_minus9 = (df[col] == -9).sum() + (df[col] == 9).sum()\n",
    "        total_count = len(df)\n",
    "        percentage = (count_minus9 / total_count) * 100\n",
    "        print(f\"{col:<12} | {count_minus9:<12} | {total_count:<10} | {percentage:<10.2f}\")\n",
    "    else:\n",
    "        missing_cols.append(col)"
   ]
  },
  {
   "cell_type": "code",
   "execution_count": 1,
   "id": "a960388e",
   "metadata": {},
   "outputs": [],
   "source": [
    "import pandas as pd\n",
    "df1 = pd.read_csv('../data/raw/demo/csv/heart_disease_merged.csv')\n",
    "#hungarian , long-beach-va, #switzerland, cleveland, heart_disease_merged"
   ]
  },
  {
   "cell_type": "code",
   "execution_count": 2,
   "id": "f367b35e",
   "metadata": {},
   "outputs": [
    {
     "name": "stdout",
     "output_type": "stream",
     "text": [
      "📊 PHẦN TRĂM GIÁ TRỊ -NULL CHO TỪNG CỘT\n",
      "==================================================\n",
      "Cột          | Số lượng NULL | Tổng số    | Phần trăm %\n",
      "--------------------------------------------------\n",
      "age          | 0            | 899        | 0.00      \n",
      "sex          | 0            | 899        | 0.00      \n",
      "num          | 0            | 899        | 0.00      \n",
      "cp           | 0            | 899        | 0.00      \n",
      "ca           | 609          | 899        | 67.74     \n",
      "thal         | 477          | 899        | 53.06     \n",
      "oldpeak      | 62           | 899        | 6.90      \n",
      "exang        | 55           | 899        | 6.12      \n",
      "trestbps     | 59           | 899        | 6.56      \n",
      "chol         | 30           | 899        | 3.34      \n",
      "thalach      | 55           | 899        | 6.12      \n",
      "slope        | 308          | 899        | 34.26     \n",
      "restecg      | 2            | 899        | 0.22      \n",
      "htn          | 34           | 899        | 3.78      \n",
      "dm           | 804          | 899        | 89.43     \n",
      "famhist      | 422          | 899        | 46.94     \n",
      "fbs          | 90           | 899        | 10.01     \n",
      "prop         | 66           | 899        | 7.34      \n",
      "nitr         | 65           | 899        | 7.23      \n",
      "pro          | 63           | 899        | 7.01      \n",
      "diuretic     | 82           | 899        | 9.12      \n",
      "xhypo        | 58           | 899        | 6.45      \n"
     ]
    }
   ],
   "source": [
    "columns_to_check = ['age', 'sex', 'num', 'cp','ca', 'thal', 'oldpeak', 'exang', \n",
    "                   'trestbps', 'chol', 'thalach', 'slope', 'restecg', 'htn', \n",
    "                   'dm', 'famhist', 'fbs', 'prop', 'nitr', 'pro', \n",
    "                   'diuretic', 'xhypo']\n",
    "print(\"📊 PHẦN TRĂM GIÁ TRỊ -NULL CHO TỪNG CỘT\")\n",
    "print(\"=\" * 50)\n",
    "print(f\"{'Cột':<12} | {'Số lượng NULL':<12} | {'Tổng số':<10} | {'Phần trăm %':<10}\")\n",
    "print(\"-\" * 50)\n",
    "\n",
    "missing_cols = []\n",
    "for col in columns_to_check:\n",
    "    if col in df1.columns:\n",
    "        count_minus9 = (df1[col] == -9).sum() + (df1[col] == 9).sum()\n",
    "        total_count = len(df1)\n",
    "        percentage = (count_minus9 / total_count) * 100\n",
    "        print(f\"{col:<12} | {count_minus9:<12} | {total_count:<10} | {percentage:<10.2f}\")\n",
    "    else:\n",
    "        missing_cols.append(col)"
   ]
  }
 ],
 "metadata": {
  "kernelspec": {
   "display_name": "de_env",
   "language": "python",
   "name": "python3"
  },
  "language_info": {
   "codemirror_mode": {
    "name": "ipython",
    "version": 3
   },
   "file_extension": ".py",
   "mimetype": "text/x-python",
   "name": "python",
   "nbconvert_exporter": "python",
   "pygments_lexer": "ipython3",
   "version": "3.11.13"
  }
 },
 "nbformat": 4,
 "nbformat_minor": 5
}
