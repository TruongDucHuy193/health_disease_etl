{
 "cells": [
  {
   "cell_type": "markdown",
   "id": "48717eac",
   "metadata": {},
   "source": [
    "### Tìm mối quan hệ giữa các yếu tố sức khỏe\n",
    "### Phân tích sự khác biệt giữa các nhóm bệnh nhân có và không có biến chứng.\n",
    "### Tìm hiểu mối quan hệ giữa tiền sử bệnh lý và biến chứng.\n",
    "### Phân tích tác động của thuốc điều trị đến biến chứng. \n",
    "### Phân tích sự ảnh hưởng của tuổi và giới tính đến tỷ lệ biến chứng.\n",
    "### Đề xuất các phương pháp dự phòng biến chứng dựa trên dữ liệu phân tích."
   ]
  },
  {
   "cell_type": "markdown",
   "id": "57a43521",
   "metadata": {},
   "source": [
    "| STT | Tên biến           | Mô tả tiếng Việt                                         |\n",
    "| --- | ------------------ | -------------------------------------------------------- |\n",
    "| 1   | **age**            | Tuổi                                                     |\n",
    "| 2   | **sex**            | Giới tính                                                |\n",
    "| 3   | **cp**             | Kiểu đau ngực                                            |\n",
    "| 4   | **trestbps**       | Huyết áp tâm thu lúc nghỉ                                |\n",
    "| 5   | **chol**           | Cholesterol toàn phần                                    |\n",
    "| 6   | **fbs**            | Đường huyết lúc đói                                      |\n",
    "| 7   | **restecg**        | Kết quả điện tâm đồ lúc nghỉ                             |\n",
    "| 8   | **thalach**        | Nhịp tim tối đa khi gắng sức                             |\n",
    "| 9   | **exang**          | Có đau ngực khi gắng sức hay không                       |\n",
    "| 10  | **oldpeak**        | Mức độ ST chênh xuống sau gắng sức                       |\n",
    "| 11  | **slope**          | Độ dốc đoạn ST                                           |\n",
    "| 12  | **ca**             | Số lượng mạch vành bị hẹp                                |\n",
    "| 13  | **thal**           | Kết quả thallium test                |\n",
    "| 14  | **num**            | Số lượng mạch vành bị tổn thương (mức độ bệnh mạch vành) |\n"
   ]
  },
  {
   "cell_type": "markdown",
   "id": "b576221f",
   "metadata": {},
   "source": [
    "| STT                       | Tên biến           | Mô tả tiếng Việt                                        |\n",
    "| ------------------------- | ------------------ | ------------------------------------------------------- |\n",
    "| 15                        | **htn**            | Có tiền sử tăng huyết áp                                |\n",
    "| 16                        | **dm**             | Có tiền sử đái tháo đường                               |\n",
    "| 17                        | **famhist**        | Tiền sử gia đình mắc bệnh tim mạch                      |\n",
    "| 18                        | **prop**           | Sử dụng thuốc chẹn beta                                 |\n",
    "| 19                        | **nitr**           | Sử dụng thuốc nitrate                                   |\n",
    "| 20                        | **pro**            | Thuốc khác (không rõ nhóm cụ thể)                       |\n",
    "| 21                        | **diuretic**       | Sử dụng thuốc lợi tiểu                                  |\n",
    "| 22                        | **xhypo**          | Sử dụng thuốc chuyển hóa/lipid máu                      |\n",
    "| 23                        | **smoke**          | Có hút thuốc lá (1 = có, 0 = không)                     |\n"
   ]
  },
  {
   "cell_type": "markdown",
   "id": "04eadf45",
   "metadata": {},
   "source": []
  }
 ],
 "metadata": {
  "language_info": {
   "name": "python"
  }
 },
 "nbformat": 4,
 "nbformat_minor": 5
}
