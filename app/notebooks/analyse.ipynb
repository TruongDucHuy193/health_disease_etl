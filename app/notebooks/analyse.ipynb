{
 "cells": [
  {
   "cell_type": "markdown",
   "id": "48717eac",
   "metadata": {},
   "source": [
    "      1. #3  (age)       \n",
    "      2. #4  (sex)       \n",
    "      3. #9  (cp)        \n",
    "      4. #10 (trestbps)  \n",
    "      5. #12 (chol)      \n",
    "      6. #16 (fbs)       \n",
    "      7. #19 (restecg)   \n",
    "      8. #32 (thalach)   \n",
    "      9. #38 (exang)     \n",
    "      10. #40 (oldpeak)   \n",
    "      11. #41 (slope)     \n",
    "      12. #44 (ca)        \n",
    "      13. #51 (thal)      \n",
    "      14. #58 (num)    \n",
    "### Tìm mối quan hệ giữa các yếu tố sức khỏe\n",
    "### Phân tích các yếu tố nguy cơ liên quan đến biến chứng sau nhồi máu cơ tim.\n",
    "### Phân tích sự khác biệt giữa các nhóm bệnh nhân có và không có biến chứng.\n",
    "### Tìm hiểu mối quan hệ giữa tiền sử bệnh lý và biến chứng.\n",
    "### Phân tích tác động của thuốc điều trị đến biến chứng.\n",
    "### Phân tích sự ảnh hưởng của tuổi và giới tính đến tỷ lệ biến chứng.\n",
    "### Đề xuất các phương pháp dự phòng biến chứng dựa trên dữ liệu phân tích."
   ]
  },
  {
   "cell_type": "markdown",
   "id": "627240d9",
   "metadata": {},
   "source": []
  },
  {
   "cell_type": "code",
   "execution_count": null,
   "id": "d121b146",
   "metadata": {},
   "outputs": [],
   "source": [
    "import pandas as pd\n",
    "import numpy as np\n",
    "import matplotlib.pyplot as plt\n",
    "import seaborn as sns\n",
    "from scipy import stats\n",
    "import warnings\n",
    "warnings.filterwarnings('ignore')\n",
    "\n",
    "# Đọc dữ liệu\n",
    "df = pd.read_csv('../data/processed/processed_heart_disease.csv')\n",
    "\n",
    "# Hiển thị thông tin cơ bản về dữ liệu\n",
    "print(\"=== THÔNG TIN CƠ BẢN VỀ DỮ LIỆU ===\")\n",
    "print(f\"Kích thước dữ liệu: {df.shape}\")\n",
    "print(f\"Số cột: {df.shape[1]}\")\n",
    "print(f\"Số hàng: {df.shape[0]}\")\n",
    "print(\"\\nTên các cột:\")\n",
    "print(df.columns.tolist())"
   ]
  }
 ],
 "metadata": {
  "language_info": {
   "name": "python"
  }
 },
 "nbformat": 4,
 "nbformat_minor": 5
}
